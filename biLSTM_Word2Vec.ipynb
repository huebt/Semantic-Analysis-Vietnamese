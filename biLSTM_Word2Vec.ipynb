{
  "nbformat": 4,
  "nbformat_minor": 0,
  "metadata": {
    "colab": {
      "name": "biLSTM_Word2Vec.ipynb",
      "provenance": []
    },
    "kernelspec": {
      "name": "python3",
      "display_name": "Python 3"
    },
    "language_info": {
      "name": "python"
    }
  },
  "cells": [
    {
      "cell_type": "code",
      "metadata": {
        "id": "E0VhtfppW7UL"
      },
      "source": [
        ""
      ],
      "execution_count": null,
      "outputs": []
    },
    {
      "cell_type": "code",
      "metadata": {
        "id": "qU5aZprzieC4",
        "colab": {
          "base_uri": "https://localhost:8080/"
        },
        "outputId": "f6cabb5c-40a5-442c-8d6d-468cc5db25e2"
      },
      "source": [
        "from google.colab import drive\n",
        "drive.mount('/content/drive')"
      ],
      "execution_count": 1,
      "outputs": [
        {
          "output_type": "stream",
          "name": "stdout",
          "text": [
            "Mounted at /content/drive\n"
          ]
        }
      ]
    },
    {
      "cell_type": "code",
      "metadata": {
        "id": "9P3rcfhEjV8U",
        "colab": {
          "base_uri": "https://localhost:8080/"
        },
        "outputId": "11599bcb-1c31-4afe-f092-50a6ef2b774d"
      },
      "source": [
        "%cd '/content/drive/MyDrive/project'\n",
        "! ls"
      ],
      "execution_count": 2,
      "outputs": [
        {
          "output_type": "stream",
          "name": "stdout",
          "text": [
            "/content/drive/MyDrive/project\n",
            "data\n"
          ]
        }
      ]
    },
    {
      "cell_type": "code",
      "metadata": {
        "id": "3Cmx8rdDjeyp",
        "colab": {
          "base_uri": "https://localhost:8080/"
        },
        "outputId": "fa483656-4c46-40b2-b4ed-fc2ad955cbcb"
      },
      "source": [
        "contents = []\n",
        "X_train = []\n",
        "y_train = []\n",
        "f = open(\"data/train_neg.txt\", \"r\")\n",
        "data = f.read()\n",
        "lines = data.split(\"\\n\")\n",
        "for line in lines:\n",
        "    if( line != ' '):\n",
        "        X_train.append(line)\n",
        "        contents.append(line)\n",
        "        y_train.append(0)\n",
        "f.close()\n",
        "\n",
        "del X_train[-1]\n",
        "del y_train[-1]\n",
        "del contents[-1]\n",
        "\n",
        "f = open(\"data/train_pos.txt\", \"r\")\n",
        "data = f.read()\n",
        "lines = data.split(\"\\n\")\n",
        "for line in lines:\n",
        "    if( line != ' ' and line != '\\n'):\n",
        "        X_train.append(line)\n",
        "        contents.append(line)\n",
        "        y_train.append(1)\n",
        "f.close()\n",
        "del X_train[-1]\n",
        "del y_train[-1]\n",
        "del contents[-1]\n",
        "\n",
        "print(len(X_train))\n",
        "print(len(y_train))\n",
        "\n",
        "\n",
        "X_val = []\n",
        "y_val = []\n",
        "f = open(\"data/val_neg.txt\", \"r\")\n",
        "data = f.read()\n",
        "lines = data.split(\"\\n\")\n",
        "for line in lines:\n",
        "    if( line != ' ' ):\n",
        "        X_val.append(line)\n",
        "        contents.append(line)\n",
        "        y_val.append(0)\n",
        "f.close()\n",
        "del X_val[-1]\n",
        "del y_val[-1]\n",
        "del contents[-1]\n",
        "\n",
        "f = open(\"data/val_pos.txt\", \"r\")\n",
        "data = f.read()\n",
        "lines = data.split(\"\\n\")\n",
        "for line in lines:\n",
        "    if( line != ' ' and line != '\\n'):\n",
        "        X_val.append(line)\n",
        "        contents.append(line)\n",
        "        y_val.append(1)\n",
        "\n",
        "f.close()\n",
        "del X_val[-1]\n",
        "del y_val[-1]\n",
        "del contents[-1]\n",
        "\n",
        "print(len(X_val))\n",
        "print(len(y_val))\n",
        "\n",
        "\n",
        "X_test = []\n",
        "y_test = []\n",
        "f = open(\"data/test_neg.txt\", \"r\")\n",
        "data = f.read()\n",
        "lines = data.split(\"\\n\")\n",
        "for line in lines:\n",
        "    if( line != ' ' and line != '\\n'):\n",
        "        X_test.append(line)\n",
        "        contents.append(line)\n",
        "        y_test.append(0)\n",
        "f.close()\n",
        "\n",
        "del X_test[-1]\n",
        "del y_test[-1]\n",
        "del contents[-1]\n",
        "\n",
        "f = open(\"data/test_pos.txt\", \"r\")\n",
        "data = f.read()\n",
        "lines = data.split(\"\\n\")\n",
        "for line in lines:\n",
        "    if( line != ' ' and line != '\\n'):\n",
        "        X_test.append(line)\n",
        "        contents.append(line)\n",
        "        y_test.append(1)\n",
        "f.close()\n",
        "\n",
        "del X_test[-1]\n",
        "del y_test[-1]\n",
        "del contents[-1]\n",
        "print(len(X_test))\n",
        "print(len(y_test))\n"
      ],
      "execution_count": 3,
      "outputs": [
        {
          "output_type": "stream",
          "name": "stdout",
          "text": [
            "30000\n",
            "30000\n",
            "10000\n",
            "10000\n",
            "10000\n",
            "10000\n"
          ]
        }
      ]
    },
    {
      "cell_type": "code",
      "metadata": {
        "id": "Q5jxzawSmNz_",
        "colab": {
          "base_uri": "https://localhost:8080/"
        },
        "outputId": "cc4d428c-4d34-4d91-c23c-6cca9da71572"
      },
      "source": [
        "print(X_train[0])"
      ],
      "execution_count": 4,
      "outputs": [
        {
          "output_type": "stream",
          "name": "stdout",
          "text": [
            "deal la k đọc review nhìu khen mua thử đi tầm h quán vắng món qá dở giá_cả k dĩa bạn_trai đi xog đau bụng suốt đêm keu món nghêu cát chết nước_chấm k ngon ốc k tươi phục_vụ k thân_thiện đc quán sạch_sẽ sợ lun hên xài deal thay tiếc\n"
          ]
        }
      ]
    },
    {
      "cell_type": "code",
      "metadata": {
        "id": "Pc3zDXzCkFu5"
      },
      "source": [
        "import numpy as np\n",
        "from keras.preprocessing.text import one_hot\n",
        "from keras.preprocessing.sequence import pad_sequences\n",
        "from keras.preprocessing import sequence\n",
        "\n",
        "from keras.models import Sequential\n",
        "from keras.layers.embeddings import Embedding\n",
        "\n",
        "from keras.layers import Dense, Dropout, Embedding, LSTM, Bidirectional\n",
        "from sklearn.feature_extraction.text import CountVectorizer\n",
        "import gensim\n"
      ],
      "execution_count": 5,
      "outputs": []
    },
    {
      "cell_type": "code",
      "metadata": {
        "id": "QZGxairpkr9t",
        "colab": {
          "base_uri": "https://localhost:8080/"
        },
        "outputId": "59d652c0-33c3-414e-bc78-b65f5e9b0a2d"
      },
      "source": [
        "sentences = [[word for word in document.split()] for document in contents]\n",
        "print(sentences[0])\n",
        "word_model = gensim.models.Word2Vec(sentences, size=200, min_count = 1, window = 5)\n",
        "print(word_model.wv.syn0)\n",
        "\n",
        "print(word_model.wv.syn0.shape)\n",
        "\n",
        "print(word_model.wv.vocab)"
      ],
      "execution_count": 6,
      "outputs": [
        {
          "output_type": "stream",
          "name": "stdout",
          "text": [
            "['deal', 'la', 'k', 'đọc', 'review', 'nhìu', 'khen', 'mua', 'thử', 'đi', 'tầm', 'h', 'quán', 'vắng', 'món', 'qá', 'dở', 'giá_cả', 'k', 'dĩa', 'bạn_trai', 'đi', 'xog', 'đau', 'bụng', 'suốt', 'đêm', 'keu', 'món', 'nghêu', 'cát', 'chết', 'nước_chấm', 'k', 'ngon', 'ốc', 'k', 'tươi', 'phục_vụ', 'k', 'thân_thiện', 'đc', 'quán', 'sạch_sẽ', 'sợ', 'lun', 'hên', 'xài', 'deal', 'thay', 'tiếc']\n"
          ]
        },
        {
          "output_type": "stream",
          "name": "stderr",
          "text": [
            "IOPub data rate exceeded.\n",
            "The notebook server will temporarily stop sending output\n",
            "to the client in order to avoid crashing it.\n",
            "To change this limit, set the config variable\n",
            "`--NotebookApp.iopub_data_rate_limit`.\n",
            "\n",
            "Current values:\n",
            "NotebookApp.iopub_data_rate_limit=1000000.0 (bytes/sec)\n",
            "NotebookApp.rate_limit_window=3.0 (secs)\n",
            "\n",
            "/usr/local/lib/python3.7/dist-packages/ipykernel_launcher.py:4: DeprecationWarning: Call to deprecated `syn0` (Attribute will be removed in 4.0.0, use self.wv.vectors instead).\n",
            "  after removing the cwd from sys.path.\n",
            "/usr/local/lib/python3.7/dist-packages/ipykernel_launcher.py:6: DeprecationWarning: Call to deprecated `syn0` (Attribute will be removed in 4.0.0, use self.wv.vectors instead).\n",
            "  \n"
          ]
        }
      ]
    },
    {
      "cell_type": "code",
      "metadata": {
        "id": "jhjnZZHWls1k",
        "colab": {
          "base_uri": "https://localhost:8080/"
        },
        "outputId": "dcbf848e-ce9f-4011-b4b4-e566854843e8"
      },
      "source": [
        "print(word_model.wv.syn0)"
      ],
      "execution_count": 7,
      "outputs": [
        {
          "output_type": "stream",
          "name": "stdout",
          "text": [
            "[[ 6.6012359e-01  2.5577399e-01  7.7934200e-01 ... -1.5367788e-01\n",
            "  -3.4740210e-01 -4.4940549e-01]\n",
            " [-1.1472226e+00  7.0244747e-01 -7.1319856e-02 ...  4.5900562e-01\n",
            "  -4.4609600e-01 -5.9294361e-01]\n",
            " [-5.5781329e-01  2.0330466e-01 -1.1846697e+00 ... -2.6901987e-01\n",
            "   6.9595116e-01 -2.8509313e-02]\n",
            " ...\n",
            " [-9.5544886e-03  2.0913282e-02 -1.0716621e-03 ...  4.3474711e-03\n",
            "  -2.4902700e-03  3.4657393e-03]\n",
            " [ 1.1740282e-02  6.4628888e-03  3.4294587e-03 ...  7.4762404e-03\n",
            "   1.0754897e-02  9.3763722e-03]\n",
            " [ 5.9240600e-03 -2.9801070e-03  3.8952271e-03 ... -7.6974137e-04\n",
            "   5.0803777e-03  3.2770864e-04]]\n"
          ]
        },
        {
          "output_type": "stream",
          "name": "stderr",
          "text": [
            "/usr/local/lib/python3.7/dist-packages/ipykernel_launcher.py:1: DeprecationWarning: Call to deprecated `syn0` (Attribute will be removed in 4.0.0, use self.wv.vectors instead).\n",
            "  \"\"\"Entry point for launching an IPython kernel.\n"
          ]
        }
      ]
    },
    {
      "cell_type": "code",
      "metadata": {
        "id": "-L-Y5unGlxK2",
        "colab": {
          "base_uri": "https://localhost:8080/"
        },
        "outputId": "e3622b86-ecad-481e-d10e-b1b72f05ef0c"
      },
      "source": [
        "\n",
        "print(word_model.wv.syn0.shape)"
      ],
      "execution_count": 8,
      "outputs": [
        {
          "output_type": "stream",
          "name": "stdout",
          "text": [
            "(41578, 200)\n"
          ]
        },
        {
          "output_type": "stream",
          "name": "stderr",
          "text": [
            "/usr/local/lib/python3.7/dist-packages/ipykernel_launcher.py:2: DeprecationWarning: Call to deprecated `syn0` (Attribute will be removed in 4.0.0, use self.wv.vectors instead).\n",
            "  \n"
          ]
        }
      ]
    },
    {
      "cell_type": "code",
      "metadata": {
        "id": "t__fOGC_lywe",
        "colab": {
          "base_uri": "https://localhost:8080/"
        },
        "outputId": "715aa745-9778-495e-ad7d-1ae32d07b73a"
      },
      "source": [
        "\n",
        "print(word_model.wv.vocab)"
      ],
      "execution_count": 9,
      "outputs": [
        {
          "output_type": "stream",
          "name": "stderr",
          "text": [
            "IOPub data rate exceeded.\n",
            "The notebook server will temporarily stop sending output\n",
            "to the client in order to avoid crashing it.\n",
            "To change this limit, set the config variable\n",
            "`--NotebookApp.iopub_data_rate_limit`.\n",
            "\n",
            "Current values:\n",
            "NotebookApp.iopub_data_rate_limit=1000000.0 (bytes/sec)\n",
            "NotebookApp.rate_limit_window=3.0 (secs)\n",
            "\n"
          ]
        }
      ]
    },
    {
      "cell_type": "code",
      "metadata": {
        "id": "48EcEieblRgp",
        "colab": {
          "base_uri": "https://localhost:8080/"
        },
        "outputId": "9ec55440-7274-4b7c-d4e0-0c0b0e234594"
      },
      "source": [
        "embedding_layer = Embedding(input_dim=word_model.wv.syn0.shape[0], output_dim=word_model.wv.syn0.shape[1], weights=[word_model.wv.syn0])\n",
        "\n",
        "model = Sequential()\n",
        "model.add(embedding_layer)\n",
        "# model.add(LSTM(word_model.wv.syn0.shape[1]))\n",
        "# model.add(Dense(word_model.wv.syn0.shape[0]))   \n",
        "# model.add(Activation('softmax'))\n",
        "# model.compile('adam', 'binary_crossentropy', metrics=['accuracy'])\n",
        "\n",
        "\n",
        "model.add(Bidirectional(LSTM(word_model.wv.syn0.shape[1])))\n",
        "model.add(Dropout(0.5))\n",
        "model.add(Dense(1, activation='sigmoid'))\n",
        "# try using different optimizers and different optimizer configs\n",
        "model.compile('adam', 'binary_crossentropy', metrics=['accuracy'])\n",
        "\n",
        "model.summary()\n",
        "\n"
      ],
      "execution_count": 10,
      "outputs": [
        {
          "output_type": "stream",
          "name": "stderr",
          "text": [
            "/usr/local/lib/python3.7/dist-packages/ipykernel_launcher.py:1: DeprecationWarning: Call to deprecated `syn0` (Attribute will be removed in 4.0.0, use self.wv.vectors instead).\n",
            "  \"\"\"Entry point for launching an IPython kernel.\n",
            "/usr/local/lib/python3.7/dist-packages/ipykernel_launcher.py:11: DeprecationWarning: Call to deprecated `syn0` (Attribute will be removed in 4.0.0, use self.wv.vectors instead).\n",
            "  # This is added back by InteractiveShellApp.init_path()\n"
          ]
        },
        {
          "output_type": "stream",
          "name": "stdout",
          "text": [
            "Model: \"sequential\"\n",
            "_________________________________________________________________\n",
            "Layer (type)                 Output Shape              Param #   \n",
            "=================================================================\n",
            "embedding (Embedding)        (None, None, 200)         8315600   \n",
            "_________________________________________________________________\n",
            "bidirectional (Bidirectional (None, 400)               641600    \n",
            "_________________________________________________________________\n",
            "dropout (Dropout)            (None, 400)               0         \n",
            "_________________________________________________________________\n",
            "dense (Dense)                (None, 1)                 401       \n",
            "=================================================================\n",
            "Total params: 8,957,601\n",
            "Trainable params: 8,957,601\n",
            "Non-trainable params: 0\n",
            "_________________________________________________________________\n"
          ]
        }
      ]
    },
    {
      "cell_type": "code",
      "metadata": {
        "id": "VtTUmV26ljvR"
      },
      "source": [
        "y_train = np.array(y_train)\n",
        "y_test = np.array(y_test)\n",
        "y_val = np.array(y_val)\n"
      ],
      "execution_count": 11,
      "outputs": []
    },
    {
      "cell_type": "code",
      "metadata": {
        "id": "OAs2J729mEMZ",
        "colab": {
          "base_uri": "https://localhost:8080/"
        },
        "outputId": "2078fb11-04d1-4a38-e9b6-b66c093516d0"
      },
      "source": [
        "print(X_train[0])"
      ],
      "execution_count": 12,
      "outputs": [
        {
          "output_type": "stream",
          "name": "stdout",
          "text": [
            "deal la k đọc review nhìu khen mua thử đi tầm h quán vắng món qá dở giá_cả k dĩa bạn_trai đi xog đau bụng suốt đêm keu món nghêu cát chết nước_chấm k ngon ốc k tươi phục_vụ k thân_thiện đc quán sạch_sẽ sợ lun hên xài deal thay tiếc\n"
          ]
        }
      ]
    },
    {
      "cell_type": "code",
      "metadata": {
        "id": "6s7_s9FPlg56"
      },
      "source": [
        "vocab_size = len(word_model.wv.vocab)\n",
        "X_train = [one_hot(d, vocab_size) for d in X_train]\n",
        "X_test = [one_hot(d, vocab_size) for d in X_test]\n",
        "X_val = [one_hot(d, vocab_size) for d in X_val]\n"
      ],
      "execution_count": 13,
      "outputs": []
    },
    {
      "cell_type": "code",
      "metadata": {
        "id": "mZR5cXW_akuR"
      },
      "source": [
        "maxlen = 100\n",
        "batch_size = 32\n",
        "\n",
        "X_train = sequence.pad_sequences(X_train, maxlen=maxlen)\n",
        "X_test = sequence.pad_sequences(X_test, maxlen=maxlen)\n",
        "X_val = sequence.pad_sequences(X_val, maxlen=maxlen)"
      ],
      "execution_count": 14,
      "outputs": []
    },
    {
      "cell_type": "code",
      "metadata": {
        "id": "4cpRacFKmzvA",
        "colab": {
          "base_uri": "https://localhost:8080/"
        },
        "outputId": "574aaa8e-c7dd-4691-ca8e-45c249ebca0a"
      },
      "source": [
        "\n",
        "#model\n",
        "model = Sequential()\n",
        "model.add(Embedding(vocab_size, 128, input_length=maxlen))\n",
        "model.add(Bidirectional(LSTM(64)))\n",
        "model.add(Dropout(0.5))\n",
        "model.add(Dense(1, activation='sigmoid'))\n",
        "# try using different optimizers and different optimizer configs\n",
        "model.compile('adam', 'binary_crossentropy', metrics=['accuracy'])\n",
        "\n",
        "model.summary()"
      ],
      "execution_count": 15,
      "outputs": [
        {
          "output_type": "stream",
          "name": "stdout",
          "text": [
            "Model: \"sequential_1\"\n",
            "_________________________________________________________________\n",
            "Layer (type)                 Output Shape              Param #   \n",
            "=================================================================\n",
            "embedding_1 (Embedding)      (None, 100, 128)          5321984   \n",
            "_________________________________________________________________\n",
            "bidirectional_1 (Bidirection (None, 128)               98816     \n",
            "_________________________________________________________________\n",
            "dropout_1 (Dropout)          (None, 128)               0         \n",
            "_________________________________________________________________\n",
            "dense_1 (Dense)              (None, 1)                 129       \n",
            "=================================================================\n",
            "Total params: 5,420,929\n",
            "Trainable params: 5,420,929\n",
            "Non-trainable params: 0\n",
            "_________________________________________________________________\n"
          ]
        }
      ]
    },
    {
      "cell_type": "code",
      "metadata": {
        "id": "IT1xcYMam7sW",
        "colab": {
          "base_uri": "https://localhost:8080/"
        },
        "outputId": "9a62176f-6034-41c9-f06f-8af31795b04a"
      },
      "source": [
        "# Fit the model\n",
        "model.fit(X_train, y_train, epochs=2, batch_size=32, validation_data=(X_val, y_val), verbose=1)"
      ],
      "execution_count": 16,
      "outputs": [
        {
          "output_type": "stream",
          "name": "stdout",
          "text": [
            "Epoch 1/2\n",
            "938/938 [==============================] - 191s 199ms/step - loss: 0.3777 - accuracy: 0.8318 - val_loss: 0.3281 - val_accuracy: 0.8631\n",
            "Epoch 2/2\n",
            "938/938 [==============================] - 191s 204ms/step - loss: 0.2855 - accuracy: 0.8833 - val_loss: 0.3425 - val_accuracy: 0.8562\n"
          ]
        },
        {
          "output_type": "execute_result",
          "data": {
            "text/plain": [
              "<keras.callbacks.History at 0x7f09aaa10d50>"
            ]
          },
          "metadata": {},
          "execution_count": 16
        }
      ]
    },
    {
      "cell_type": "code",
      "metadata": {
        "id": "fb_eMvsY1jWV",
        "colab": {
          "base_uri": "https://localhost:8080/"
        },
        "outputId": "a2831498-91b1-4d60-87be-865fa79de8ba"
      },
      "source": [
        "# Final evaluation of the model\n",
        "scores = model.evaluate(X_test, y_test, verbose=1)\n",
        "print(\"Accuracy Test: \", scores[1]*100)\n"
      ],
      "execution_count": 17,
      "outputs": [
        {
          "output_type": "stream",
          "name": "stdout",
          "text": [
            "313/313 [==============================] - 9s 28ms/step - loss: 0.3335 - accuracy: 0.8609\n",
            "Accuracy Test:  86.08999848365784\n"
          ]
        }
      ]
    },
    {
      "cell_type": "code",
      "metadata": {
        "id": "rAi0udnCFp4j"
      },
      "source": [
        "\n",
        "y_pred_0 = model.predict(X_test)\n",
        "\n",
        "y_pred_0 = np.array(y_pred_0)\n",
        "\n"
      ],
      "execution_count": 18,
      "outputs": []
    },
    {
      "cell_type": "code",
      "metadata": {
        "id": "foPj6NSPKHEo",
        "colab": {
          "base_uri": "https://localhost:8080/"
        },
        "outputId": "35175d22-1b96-490c-d636-6a5628f346b9"
      },
      "source": [
        "print(y_pred_0)"
      ],
      "execution_count": 19,
      "outputs": [
        {
          "output_type": "stream",
          "name": "stdout",
          "text": [
            "[[0.02565312]\n",
            " [0.0037609 ]\n",
            " [0.30646122]\n",
            " ...\n",
            " [0.92283404]\n",
            " [0.9298446 ]\n",
            " [0.6514287 ]]\n"
          ]
        }
      ]
    },
    {
      "cell_type": "code",
      "metadata": {
        "id": "iwibf0GnKD1V"
      },
      "source": [
        "y_pred = [np.round(elem) for elem in  y_pred_0]"
      ],
      "execution_count": 20,
      "outputs": []
    },
    {
      "cell_type": "code",
      "metadata": {
        "id": "y3_QkxUGnS5B",
        "colab": {
          "base_uri": "https://localhost:8080/"
        },
        "outputId": "d7154363-59a0-4224-b7d3-600beae5a417"
      },
      "source": [
        "print(y_pred[0])\n",
        "print(y_test[0])"
      ],
      "execution_count": 21,
      "outputs": [
        {
          "output_type": "stream",
          "name": "stdout",
          "text": [
            "[0.]\n",
            "0\n"
          ]
        }
      ]
    },
    {
      "cell_type": "code",
      "metadata": {
        "id": "0ph3FRh2nLjP",
        "colab": {
          "base_uri": "https://localhost:8080/"
        },
        "outputId": "bf039de0-16b3-4b79-9f44-b1d4c2cfff9c"
      },
      "source": [
        "from sklearn import metrics\n",
        "# Model accuracy: how often is the classifier correct?\n",
        "print(\"Accuracy: \", 100*metrics.accuracy_score(y_test, y_pred))\n",
        "\n",
        "print(\"Precision: \", 100*metrics.precision_score(y_test, y_pred))\n",
        "\n",
        "print(\"Recall (macro): \", 100*metrics.recall_score(y_test, y_pred, average='macro'))\n",
        "\n",
        "\n",
        "print(\"Recall(micro): \", 100*metrics.recall_score(y_test, y_pred, average='micro'))\n",
        "\n",
        "print(\"F1-scores(macro): \", 100*metrics.f1_score(y_test, y_pred, average='macro'))\n",
        "\n",
        "print(\"F1-scores(micro): \", 100*metrics.f1_score(y_test, y_pred, average='micro'))"
      ],
      "execution_count": 22,
      "outputs": [
        {
          "output_type": "stream",
          "name": "stdout",
          "text": [
            "Accuracy:  86.09\n",
            "Precision:  86.2859440981299\n",
            "Recall (macro):  86.09\n",
            "Recall(micro):  86.09\n",
            "F1-scores(macro):  86.08989859536076\n",
            "F1-scores(micro):  86.09\n"
          ]
        }
      ]
    },
    {
      "cell_type": "code",
      "metadata": {
        "id": "V7q18XElpCQP"
      },
      "source": [
        "\n",
        "model.save('/content/drive/MyDrive/project/model/BiLSTM_Word2vec.h5')"
      ],
      "execution_count": 23,
      "outputs": []
    }
  ]
}